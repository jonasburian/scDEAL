{
 "cells": [
  {
   "cell_type": "code",
   "execution_count": 22,
   "metadata": {},
   "outputs": [],
   "source": [
    "def refine_command(sc_data, drug, seed):\n",
    "    bulk_comm= 'python bulkmodel.py --drug \"drug_here\" --dimreduce \"DAE\" --encoder_h_dims \"256,128\" --predictor_h_dims \"128,64\" --bottleneck 512 --data_name \"sc_data_here\" --sampling \"upsampling\" --dropout 0.1 --lr 0.5 --printgene \"F\" -mod \"new\" --checkpoint \"False\" --seed seed_here'\n",
    "    sc_comm = f'python scmodel.py --sc_data \"sc_data_here\" --dimreduce \"DAE\" --drug \"drug_here\" --bulk_h_dims \"256,128\" --bottleneck 512 --predictor_h_dims \"128,64\" --dropout 0.1 --printgene \"F\" -mod \"new\" --lr 0.5 --sampling \"upsampling\" --printgene \"F\" -mod \"new\" --checkpoint \"False\" --seed seed_here'\n",
    "    curr_bulk = bulk_comm\n",
    "    curr_bulk = curr_bulk.replace('sc_data_here', sc_data)\n",
    "    curr_bulk = curr_bulk.replace('drug_here', drug)\n",
    "    curr_bulk = curr_bulk.replace('seed_here', str(seed))\n",
    "\n",
    "    curr_sc = sc_comm\n",
    "    curr_sc = curr_sc.replace('sc_data_here', sc_data)\n",
    "    curr_sc = curr_sc.replace('drug_here', drug)\n",
    "    curr_sc = curr_sc.replace('seed_here', str(seed))\n",
    "\n",
    "    return curr_bulk, curr_sc\n"
   ]
  },
  {
   "cell_type": "code",
   "execution_count": 23,
   "metadata": {},
   "outputs": [
    {
     "name": "stdout",
     "output_type": "stream",
     "text": [
      "10\n"
     ]
    }
   ],
   "source": [
    "datasets= ['GSE117872_HN120', 'GSE112274']\n",
    "drugs = ['CISPLATIN', 'GEFITINIB']\n",
    "datasets_drugs_zip = [(cs_data, drug) for cs_data, drug in zip(datasets, drugs)]\n",
    "\n",
    "seeds = [5, 10, 20, 42, 64, 100, 412, 446, 900, 1000]\n",
    "print(len(seeds))"
   ]
  },
  {
   "cell_type": "code",
   "execution_count": 25,
   "metadata": {},
   "outputs": [
    {
     "name": "stdout",
     "output_type": "stream",
     "text": [
      "python bulkmodel.py --drug \"CISPLATIN\" --dimreduce \"DAE\" --encoder_h_dims \"256,128\" --predictor_h_dims \"128,64\" --bottleneck 512 --data_name \"GSE117872_HN120\" --sampling \"upsampling\" --dropout 0.1 --lr 0.5 --printgene \"F\" -mod \"new\" --checkpoint \"False\" --seed 5\n",
      "python scmodel.py --sc_data \"GSE117872_HN120\" --dimreduce \"DAE\" --drug \"CISPLATIN\" --bulk_h_dims \"256,128\" --bottleneck 512 --predictor_h_dims \"128,64\" --dropout 0.1 --printgene \"F\" -mod \"new\" --lr 0.5 --sampling \"upsampling\" --printgene \"F\" -mod \"new\" --checkpoint \"False\" --seed 5\n",
      "\n",
      "python bulkmodel.py --drug \"CISPLATIN\" --dimreduce \"DAE\" --encoder_h_dims \"256,128\" --predictor_h_dims \"128,64\" --bottleneck 512 --data_name \"GSE117872_HN120\" --sampling \"upsampling\" --dropout 0.1 --lr 0.5 --printgene \"F\" -mod \"new\" --checkpoint \"False\" --seed 10\n",
      "python scmodel.py --sc_data \"GSE117872_HN120\" --dimreduce \"DAE\" --drug \"CISPLATIN\" --bulk_h_dims \"256,128\" --bottleneck 512 --predictor_h_dims \"128,64\" --dropout 0.1 --printgene \"F\" -mod \"new\" --lr 0.5 --sampling \"upsampling\" --printgene \"F\" -mod \"new\" --checkpoint \"False\" --seed 10\n",
      "\n",
      "python bulkmodel.py --drug \"CISPLATIN\" --dimreduce \"DAE\" --encoder_h_dims \"256,128\" --predictor_h_dims \"128,64\" --bottleneck 512 --data_name \"GSE117872_HN120\" --sampling \"upsampling\" --dropout 0.1 --lr 0.5 --printgene \"F\" -mod \"new\" --checkpoint \"False\" --seed 20\n",
      "python scmodel.py --sc_data \"GSE117872_HN120\" --dimreduce \"DAE\" --drug \"CISPLATIN\" --bulk_h_dims \"256,128\" --bottleneck 512 --predictor_h_dims \"128,64\" --dropout 0.1 --printgene \"F\" -mod \"new\" --lr 0.5 --sampling \"upsampling\" --printgene \"F\" -mod \"new\" --checkpoint \"False\" --seed 20\n",
      "\n",
      "python bulkmodel.py --drug \"CISPLATIN\" --dimreduce \"DAE\" --encoder_h_dims \"256,128\" --predictor_h_dims \"128,64\" --bottleneck 512 --data_name \"GSE117872_HN120\" --sampling \"upsampling\" --dropout 0.1 --lr 0.5 --printgene \"F\" -mod \"new\" --checkpoint \"False\" --seed 42\n",
      "python scmodel.py --sc_data \"GSE117872_HN120\" --dimreduce \"DAE\" --drug \"CISPLATIN\" --bulk_h_dims \"256,128\" --bottleneck 512 --predictor_h_dims \"128,64\" --dropout 0.1 --printgene \"F\" -mod \"new\" --lr 0.5 --sampling \"upsampling\" --printgene \"F\" -mod \"new\" --checkpoint \"False\" --seed 42\n",
      "\n",
      "python bulkmodel.py --drug \"CISPLATIN\" --dimreduce \"DAE\" --encoder_h_dims \"256,128\" --predictor_h_dims \"128,64\" --bottleneck 512 --data_name \"GSE117872_HN120\" --sampling \"upsampling\" --dropout 0.1 --lr 0.5 --printgene \"F\" -mod \"new\" --checkpoint \"False\" --seed 64\n",
      "python scmodel.py --sc_data \"GSE117872_HN120\" --dimreduce \"DAE\" --drug \"CISPLATIN\" --bulk_h_dims \"256,128\" --bottleneck 512 --predictor_h_dims \"128,64\" --dropout 0.1 --printgene \"F\" -mod \"new\" --lr 0.5 --sampling \"upsampling\" --printgene \"F\" -mod \"new\" --checkpoint \"False\" --seed 64\n",
      "\n",
      "python bulkmodel.py --drug \"CISPLATIN\" --dimreduce \"DAE\" --encoder_h_dims \"256,128\" --predictor_h_dims \"128,64\" --bottleneck 512 --data_name \"GSE117872_HN120\" --sampling \"upsampling\" --dropout 0.1 --lr 0.5 --printgene \"F\" -mod \"new\" --checkpoint \"False\" --seed 100\n",
      "python scmodel.py --sc_data \"GSE117872_HN120\" --dimreduce \"DAE\" --drug \"CISPLATIN\" --bulk_h_dims \"256,128\" --bottleneck 512 --predictor_h_dims \"128,64\" --dropout 0.1 --printgene \"F\" -mod \"new\" --lr 0.5 --sampling \"upsampling\" --printgene \"F\" -mod \"new\" --checkpoint \"False\" --seed 100\n",
      "\n",
      "python bulkmodel.py --drug \"CISPLATIN\" --dimreduce \"DAE\" --encoder_h_dims \"256,128\" --predictor_h_dims \"128,64\" --bottleneck 512 --data_name \"GSE117872_HN120\" --sampling \"upsampling\" --dropout 0.1 --lr 0.5 --printgene \"F\" -mod \"new\" --checkpoint \"False\" --seed 412\n",
      "python scmodel.py --sc_data \"GSE117872_HN120\" --dimreduce \"DAE\" --drug \"CISPLATIN\" --bulk_h_dims \"256,128\" --bottleneck 512 --predictor_h_dims \"128,64\" --dropout 0.1 --printgene \"F\" -mod \"new\" --lr 0.5 --sampling \"upsampling\" --printgene \"F\" -mod \"new\" --checkpoint \"False\" --seed 412\n",
      "\n",
      "python bulkmodel.py --drug \"CISPLATIN\" --dimreduce \"DAE\" --encoder_h_dims \"256,128\" --predictor_h_dims \"128,64\" --bottleneck 512 --data_name \"GSE117872_HN120\" --sampling \"upsampling\" --dropout 0.1 --lr 0.5 --printgene \"F\" -mod \"new\" --checkpoint \"False\" --seed 446\n",
      "python scmodel.py --sc_data \"GSE117872_HN120\" --dimreduce \"DAE\" --drug \"CISPLATIN\" --bulk_h_dims \"256,128\" --bottleneck 512 --predictor_h_dims \"128,64\" --dropout 0.1 --printgene \"F\" -mod \"new\" --lr 0.5 --sampling \"upsampling\" --printgene \"F\" -mod \"new\" --checkpoint \"False\" --seed 446\n",
      "\n",
      "python bulkmodel.py --drug \"CISPLATIN\" --dimreduce \"DAE\" --encoder_h_dims \"256,128\" --predictor_h_dims \"128,64\" --bottleneck 512 --data_name \"GSE117872_HN120\" --sampling \"upsampling\" --dropout 0.1 --lr 0.5 --printgene \"F\" -mod \"new\" --checkpoint \"False\" --seed 900\n",
      "python scmodel.py --sc_data \"GSE117872_HN120\" --dimreduce \"DAE\" --drug \"CISPLATIN\" --bulk_h_dims \"256,128\" --bottleneck 512 --predictor_h_dims \"128,64\" --dropout 0.1 --printgene \"F\" -mod \"new\" --lr 0.5 --sampling \"upsampling\" --printgene \"F\" -mod \"new\" --checkpoint \"False\" --seed 900\n",
      "\n",
      "python bulkmodel.py --drug \"CISPLATIN\" --dimreduce \"DAE\" --encoder_h_dims \"256,128\" --predictor_h_dims \"128,64\" --bottleneck 512 --data_name \"GSE117872_HN120\" --sampling \"upsampling\" --dropout 0.1 --lr 0.5 --printgene \"F\" -mod \"new\" --checkpoint \"False\" --seed 1000\n",
      "python scmodel.py --sc_data \"GSE117872_HN120\" --dimreduce \"DAE\" --drug \"CISPLATIN\" --bulk_h_dims \"256,128\" --bottleneck 512 --predictor_h_dims \"128,64\" --dropout 0.1 --printgene \"F\" -mod \"new\" --lr 0.5 --sampling \"upsampling\" --printgene \"F\" -mod \"new\" --checkpoint \"False\" --seed 1000\n",
      "\n"
     ]
    }
   ],
   "source": [
    "sc_data, drug = datasets_drugs_zip[0]\n",
    "for seed in seeds:\n",
    "    #print(f\"for seed {seed}\")\n",
    "    c1, c2 = refine_command(sc_data, drug, seed)\n",
    "    print(c1)\n",
    "    print(c2)\n",
    "    print()\n",
    "\n",
    "\n",
    "\n",
    "\n"
   ]
  }
 ],
 "metadata": {
  "kernelspec": {
   "display_name": "base",
   "language": "python",
   "name": "python3"
  },
  "language_info": {
   "codemirror_mode": {
    "name": "ipython",
    "version": 3
   },
   "file_extension": ".py",
   "mimetype": "text/x-python",
   "name": "python",
   "nbconvert_exporter": "python",
   "pygments_lexer": "ipython3",
   "version": "3.12.2"
  }
 },
 "nbformat": 4,
 "nbformat_minor": 2
}
